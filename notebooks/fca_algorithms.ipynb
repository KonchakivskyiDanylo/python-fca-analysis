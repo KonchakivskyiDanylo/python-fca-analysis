{
 "cells": [
  {
   "cell_type": "code",
   "id": "initial_id",
   "metadata": {
    "collapsed": true,
    "ExecuteTime": {
     "end_time": "2025-05-22T06:42:25.669719Z",
     "start_time": "2025-05-22T06:42:23.958055Z"
    }
   },
   "source": [
    "import pandas as pd\n",
    "\n",
    "df = pd.read_csv(\"../data/cancer_prepared.csv\")"
   ],
   "outputs": [],
   "execution_count": 1
  },
  {
   "metadata": {
    "ExecuteTime": {
     "end_time": "2025-05-22T06:42:26.203149Z",
     "start_time": "2025-05-22T06:42:26.169296Z"
    }
   },
   "cell_type": "code",
   "source": "df.head()",
   "id": "5c0bc4daea550877",
   "outputs": [
    {
     "data": {
      "text/plain": [
       "   Age_bin_1  Age_bin_2  Age_bin_3  Genetic_Risk_bin_1  Genetic_Risk_bin_2  \\\n",
       "0      False      False       True               False                True   \n",
       "1       True      False      False                True               False   \n",
       "2      False      False       True               False               False   \n",
       "3       True      False      False                True               False   \n",
       "4       True      False      False               False                True   \n",
       "\n",
       "   Genetic_Risk_bin_3  Air_Pollution_bin_1  Air_Pollution_bin_2  \\\n",
       "0               False                 True                False   \n",
       "1               False                False                 True   \n",
       "2                True                False                False   \n",
       "3               False                 True                False   \n",
       "4               False                 True                False   \n",
       "\n",
       "   Air_Pollution_bin_3  Alcohol_Use_bin_1  ...  Cancer_Type=Leukemia  \\\n",
       "0                False              False  ...                 False   \n",
       "1                False              False  ...                  True   \n",
       "2                 True               True  ...                 False   \n",
       "3                False              False  ...                 False   \n",
       "4                False               True  ...                 False   \n",
       "\n",
       "   Cancer_Type=Liver  Cancer_Type=Lung  Cancer_Type=Prostate  \\\n",
       "0              False              True                 False   \n",
       "1              False             False                 False   \n",
       "2              False             False                 False   \n",
       "3              False             False                 False   \n",
       "4              False             False                 False   \n",
       "\n",
       "   Cancer_Type=Skin  Cancer_Stage=Stage 0  Cancer_Stage=Stage I  \\\n",
       "0             False                 False                 False   \n",
       "1             False                  True                 False   \n",
       "2             False                 False                 False   \n",
       "3             False                 False                  True   \n",
       "4              True                 False                 False   \n",
       "\n",
       "   Cancer_Stage=Stage II  Cancer_Stage=Stage III  Cancer_Stage=Stage IV  \n",
       "0                  False                    True                  False  \n",
       "1                  False                   False                  False  \n",
       "2                   True                   False                  False  \n",
       "3                  False                   False                  False  \n",
       "4                  False                    True                  False  \n",
       "\n",
       "[5 rows x 50 columns]"
      ],
      "text/html": [
       "<div>\n",
       "<style scoped>\n",
       "    .dataframe tbody tr th:only-of-type {\n",
       "        vertical-align: middle;\n",
       "    }\n",
       "\n",
       "    .dataframe tbody tr th {\n",
       "        vertical-align: top;\n",
       "    }\n",
       "\n",
       "    .dataframe thead th {\n",
       "        text-align: right;\n",
       "    }\n",
       "</style>\n",
       "<table border=\"1\" class=\"dataframe\">\n",
       "  <thead>\n",
       "    <tr style=\"text-align: right;\">\n",
       "      <th></th>\n",
       "      <th>Age_bin_1</th>\n",
       "      <th>Age_bin_2</th>\n",
       "      <th>Age_bin_3</th>\n",
       "      <th>Genetic_Risk_bin_1</th>\n",
       "      <th>Genetic_Risk_bin_2</th>\n",
       "      <th>Genetic_Risk_bin_3</th>\n",
       "      <th>Air_Pollution_bin_1</th>\n",
       "      <th>Air_Pollution_bin_2</th>\n",
       "      <th>Air_Pollution_bin_3</th>\n",
       "      <th>Alcohol_Use_bin_1</th>\n",
       "      <th>...</th>\n",
       "      <th>Cancer_Type=Leukemia</th>\n",
       "      <th>Cancer_Type=Liver</th>\n",
       "      <th>Cancer_Type=Lung</th>\n",
       "      <th>Cancer_Type=Prostate</th>\n",
       "      <th>Cancer_Type=Skin</th>\n",
       "      <th>Cancer_Stage=Stage 0</th>\n",
       "      <th>Cancer_Stage=Stage I</th>\n",
       "      <th>Cancer_Stage=Stage II</th>\n",
       "      <th>Cancer_Stage=Stage III</th>\n",
       "      <th>Cancer_Stage=Stage IV</th>\n",
       "    </tr>\n",
       "  </thead>\n",
       "  <tbody>\n",
       "    <tr>\n",
       "      <th>0</th>\n",
       "      <td>False</td>\n",
       "      <td>False</td>\n",
       "      <td>True</td>\n",
       "      <td>False</td>\n",
       "      <td>True</td>\n",
       "      <td>False</td>\n",
       "      <td>True</td>\n",
       "      <td>False</td>\n",
       "      <td>False</td>\n",
       "      <td>False</td>\n",
       "      <td>...</td>\n",
       "      <td>False</td>\n",
       "      <td>False</td>\n",
       "      <td>True</td>\n",
       "      <td>False</td>\n",
       "      <td>False</td>\n",
       "      <td>False</td>\n",
       "      <td>False</td>\n",
       "      <td>False</td>\n",
       "      <td>True</td>\n",
       "      <td>False</td>\n",
       "    </tr>\n",
       "    <tr>\n",
       "      <th>1</th>\n",
       "      <td>True</td>\n",
       "      <td>False</td>\n",
       "      <td>False</td>\n",
       "      <td>True</td>\n",
       "      <td>False</td>\n",
       "      <td>False</td>\n",
       "      <td>False</td>\n",
       "      <td>True</td>\n",
       "      <td>False</td>\n",
       "      <td>False</td>\n",
       "      <td>...</td>\n",
       "      <td>True</td>\n",
       "      <td>False</td>\n",
       "      <td>False</td>\n",
       "      <td>False</td>\n",
       "      <td>False</td>\n",
       "      <td>True</td>\n",
       "      <td>False</td>\n",
       "      <td>False</td>\n",
       "      <td>False</td>\n",
       "      <td>False</td>\n",
       "    </tr>\n",
       "    <tr>\n",
       "      <th>2</th>\n",
       "      <td>False</td>\n",
       "      <td>False</td>\n",
       "      <td>True</td>\n",
       "      <td>False</td>\n",
       "      <td>False</td>\n",
       "      <td>True</td>\n",
       "      <td>False</td>\n",
       "      <td>False</td>\n",
       "      <td>True</td>\n",
       "      <td>True</td>\n",
       "      <td>...</td>\n",
       "      <td>False</td>\n",
       "      <td>False</td>\n",
       "      <td>False</td>\n",
       "      <td>False</td>\n",
       "      <td>False</td>\n",
       "      <td>False</td>\n",
       "      <td>False</td>\n",
       "      <td>True</td>\n",
       "      <td>False</td>\n",
       "      <td>False</td>\n",
       "    </tr>\n",
       "    <tr>\n",
       "      <th>3</th>\n",
       "      <td>True</td>\n",
       "      <td>False</td>\n",
       "      <td>False</td>\n",
       "      <td>True</td>\n",
       "      <td>False</td>\n",
       "      <td>False</td>\n",
       "      <td>True</td>\n",
       "      <td>False</td>\n",
       "      <td>False</td>\n",
       "      <td>False</td>\n",
       "      <td>...</td>\n",
       "      <td>False</td>\n",
       "      <td>False</td>\n",
       "      <td>False</td>\n",
       "      <td>False</td>\n",
       "      <td>False</td>\n",
       "      <td>False</td>\n",
       "      <td>True</td>\n",
       "      <td>False</td>\n",
       "      <td>False</td>\n",
       "      <td>False</td>\n",
       "    </tr>\n",
       "    <tr>\n",
       "      <th>4</th>\n",
       "      <td>True</td>\n",
       "      <td>False</td>\n",
       "      <td>False</td>\n",
       "      <td>False</td>\n",
       "      <td>True</td>\n",
       "      <td>False</td>\n",
       "      <td>True</td>\n",
       "      <td>False</td>\n",
       "      <td>False</td>\n",
       "      <td>True</td>\n",
       "      <td>...</td>\n",
       "      <td>False</td>\n",
       "      <td>False</td>\n",
       "      <td>False</td>\n",
       "      <td>False</td>\n",
       "      <td>True</td>\n",
       "      <td>False</td>\n",
       "      <td>False</td>\n",
       "      <td>False</td>\n",
       "      <td>True</td>\n",
       "      <td>False</td>\n",
       "    </tr>\n",
       "  </tbody>\n",
       "</table>\n",
       "<p>5 rows × 50 columns</p>\n",
       "</div>"
      ]
     },
     "execution_count": 2,
     "metadata": {},
     "output_type": "execute_result"
    }
   ],
   "execution_count": 2
  },
  {
   "metadata": {
    "ExecuteTime": {
     "end_time": "2025-05-22T06:42:27.971035Z",
     "start_time": "2025-05-22T06:42:26.357168Z"
    }
   },
   "cell_type": "code",
   "source": [
    "from fca.api_models import Context\n",
    "from src.utils import create_context_from_dataframe, support"
   ],
   "id": "a7fb9f289728e375",
   "outputs": [],
   "execution_count": 3
  },
  {
   "metadata": {
    "ExecuteTime": {
     "end_time": "2025-05-22T06:42:28.121450Z",
     "start_time": "2025-05-22T06:42:28.112347Z"
    }
   },
   "cell_type": "code",
   "source": [
    "num_of_rows = 50000\n",
    "df_small = df.head(num_of_rows)"
   ],
   "id": "989aae921df5bf85",
   "outputs": [],
   "execution_count": 4
  },
  {
   "metadata": {
    "ExecuteTime": {
     "end_time": "2025-05-22T06:42:28.429901Z",
     "start_time": "2025-05-22T06:42:28.376666Z"
    }
   },
   "cell_type": "code",
   "source": [
    "objects, attributes, relation = create_context_from_dataframe(df_small)\n",
    "context = Context(objects, attributes, relation)"
   ],
   "id": "a72a6a174ac17ae1",
   "outputs": [],
   "execution_count": 5
  },
  {
   "metadata": {
    "ExecuteTime": {
     "end_time": "2025-05-22T06:51:23.520415Z",
     "start_time": "2025-05-22T06:42:28.632206Z"
    }
   },
   "cell_type": "code",
   "source": "concepts = context.get_concepts()",
   "id": "723eb773c09f1314",
   "outputs": [],
   "execution_count": 6
  },
  {
   "metadata": {
    "ExecuteTime": {
     "end_time": "2025-05-22T06:51:24.026766Z",
     "start_time": "2025-05-22T06:51:24.011448Z"
    }
   },
   "cell_type": "code",
   "source": "len(concepts)",
   "id": "5ca2d7392c370eda",
   "outputs": [
    {
     "data": {
      "text/plain": [
       "11759391"
      ]
     },
     "execution_count": 7,
     "metadata": {},
     "output_type": "execute_result"
    }
   ],
   "execution_count": 7
  },
  {
   "metadata": {
    "ExecuteTime": {
     "end_time": "2025-05-22T06:51:24.744038Z",
     "start_time": "2025-05-22T06:51:24.735058Z"
    }
   },
   "cell_type": "code",
   "source": [
    "min_size_of_intent = 2\n",
    "min_support = 0.15"
   ],
   "id": "c22dff97da08d094",
   "outputs": [],
   "execution_count": 8
  },
  {
   "metadata": {
    "ExecuteTime": {
     "end_time": "2025-05-22T06:51:43.857956Z",
     "start_time": "2025-05-22T06:51:24.942634Z"
    }
   },
   "cell_type": "code",
   "source": [
    "num = 0\n",
    "for i in concepts:\n",
    "    i = i.to_tuple()\n",
    "    if len(i[1]) < min_size_of_intent:\n",
    "        continue\n",
    "    supp = support(len(i[0]), num_of_rows)\n",
    "    if supp < min_support:\n",
    "        continue\n",
    "    num += 1\n",
    "    print(f\"{num}: {i[1]} - {supp}\")"
   ],
   "id": "8f544df26da5859c",
   "outputs": [
    {
     "name": "stdout",
     "output_type": "stream",
     "text": [
      "1: ['Genetic_Risk_bin_1', 'Target_Severity_Score_bin_1'] - 0.18462\n",
      "2: ['Genetic_Risk_bin_3', 'Target_Severity_Score_bin_3'] - 0.1783\n",
      "3: ['Air_Pollution_bin_1', 'Target_Severity_Score_bin_1'] - 0.16894\n",
      "4: ['Air_Pollution_bin_3', 'Target_Severity_Score_bin_3'] - 0.15808\n",
      "5: ['Alcohol_Use_bin_1', 'Target_Severity_Score_bin_1'] - 0.16574\n",
      "6: ['Alcohol_Use_bin_3', 'Target_Severity_Score_bin_3'] - 0.16088\n",
      "7: ['Smoking_bin_1', 'Target_Severity_Score_bin_1'] - 0.18594\n",
      "8: ['Smoking_bin_3', 'Target_Severity_Score_bin_3'] - 0.18404\n"
     ]
    }
   ],
   "execution_count": 9
  },
  {
   "metadata": {
    "ExecuteTime": {
     "end_time": "2025-05-22T06:51:44.971341Z",
     "start_time": "2025-05-22T06:51:44.199750Z"
    }
   },
   "cell_type": "code",
   "source": "rules = list(context.get_association_rules(min_support=0.15, min_confidence=0.5))",
   "id": "14f965f484e3fa5a",
   "outputs": [],
   "execution_count": 10
  },
  {
   "metadata": {
    "ExecuteTime": {
     "end_time": "2025-05-22T06:51:45.237213Z",
     "start_time": "2025-05-22T06:51:45.227941Z"
    }
   },
   "cell_type": "code",
   "source": [
    "i = 0\n",
    "for j in rules:\n",
    "    stat = j.ordered_statistics[0]\n",
    "    if stat.items_base == frozenset():\n",
    "        continue\n",
    "    i += 1\n",
    "    print(f\"{i}: {stat.items_base}->{stat.items_add}\")\n",
    "    print(f\"Confidence: {stat.confidence}\")\n",
    "    print(f\"Lift: {stat.lift}\")\n",
    "    print(f\"Support: {j.support}\")"
   ],
   "id": "96fc261ea2372bee",
   "outputs": [
    {
     "name": "stdout",
     "output_type": "stream",
     "text": [
      "1: frozenset({'Target_Severity_Score_bin_1'})->frozenset({'Air_Pollution_bin_1'})\n",
      "Confidence: 0.5025284074007973\n",
      "Lift: 1.466208809595604\n",
      "Support: 0.16894\n",
      "2: frozenset({'Genetic_Risk_bin_1'})->frozenset({'Target_Severity_Score_bin_1'})\n",
      "Confidence: 0.5523906408952187\n",
      "Lift: 1.6431395112595002\n",
      "Support: 0.18462\n",
      "3: frozenset({'Genetic_Risk_bin_3'})->frozenset({'Target_Severity_Score_bin_3'})\n",
      "Confidence: 0.5485816257461079\n",
      "Lift: 1.6537490225072589\n",
      "Support: 0.1783\n",
      "4: frozenset({'Smoking_bin_1'})->frozenset({'Target_Severity_Score_bin_1'})\n",
      "Confidence: 0.5525377392131225\n",
      "Lift: 1.643577069466127\n",
      "Support: 0.18594\n",
      "5: frozenset({'Smoking_bin_3'})->frozenset({'Target_Severity_Score_bin_3'})\n",
      "Confidence: 0.5530380431516317\n",
      "Lift: 1.66718329661049\n",
      "Support: 0.18404\n"
     ]
    }
   ],
   "execution_count": 11
  }
 ],
 "metadata": {
  "kernelspec": {
   "display_name": "Python 3",
   "language": "python",
   "name": "python3"
  },
  "language_info": {
   "codemirror_mode": {
    "name": "ipython",
    "version": 2
   },
   "file_extension": ".py",
   "mimetype": "text/x-python",
   "name": "python",
   "nbconvert_exporter": "python",
   "pygments_lexer": "ipython2",
   "version": "2.7.6"
  }
 },
 "nbformat": 4,
 "nbformat_minor": 5
}
