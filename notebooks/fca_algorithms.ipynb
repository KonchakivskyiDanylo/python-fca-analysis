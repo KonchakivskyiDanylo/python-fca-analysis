{
 "cells": [
  {
   "cell_type": "code",
   "id": "initial_id",
   "metadata": {
    "collapsed": true,
    "ExecuteTime": {
     "end_time": "2025-05-22T07:53:27.403073Z",
     "start_time": "2025-05-22T07:53:25.929921Z"
    }
   },
   "source": [
    "import pandas as pd\n",
    "\n",
    "df = pd.read_csv(\"../data/cancer_prepared.csv\")"
   ],
   "outputs": [],
   "execution_count": 1
  },
  {
   "metadata": {
    "ExecuteTime": {
     "end_time": "2025-05-22T07:53:27.774145Z",
     "start_time": "2025-05-22T07:53:27.732767Z"
    }
   },
   "cell_type": "code",
   "source": "df.head()",
   "id": "5c0bc4daea550877",
   "outputs": [
    {
     "data": {
      "text/plain": [
       "   Age_bin_1  Age_bin_2  Age_bin_3  Genetic_Risk_bin_1  Genetic_Risk_bin_2  \\\n",
       "0      False      False       True               False                True   \n",
       "1       True      False      False                True               False   \n",
       "2      False      False       True               False               False   \n",
       "3       True      False      False                True               False   \n",
       "4       True      False      False               False                True   \n",
       "\n",
       "   Genetic_Risk_bin_3  Air_Pollution_bin_1  Air_Pollution_bin_2  \\\n",
       "0               False                 True                False   \n",
       "1               False                False                 True   \n",
       "2                True                False                False   \n",
       "3               False                 True                False   \n",
       "4               False                 True                False   \n",
       "\n",
       "   Air_Pollution_bin_3  Alcohol_Use_bin_1  ...  Cancer_Type=Leukemia  \\\n",
       "0                False              False  ...                 False   \n",
       "1                False              False  ...                  True   \n",
       "2                 True               True  ...                 False   \n",
       "3                False              False  ...                 False   \n",
       "4                False               True  ...                 False   \n",
       "\n",
       "   Cancer_Type=Liver  Cancer_Type=Lung  Cancer_Type=Prostate  \\\n",
       "0              False              True                 False   \n",
       "1              False             False                 False   \n",
       "2              False             False                 False   \n",
       "3              False             False                 False   \n",
       "4              False             False                 False   \n",
       "\n",
       "   Cancer_Type=Skin  Cancer_Stage=Stage 0  Cancer_Stage=Stage I  \\\n",
       "0             False                 False                 False   \n",
       "1             False                  True                 False   \n",
       "2             False                 False                 False   \n",
       "3             False                 False                  True   \n",
       "4              True                 False                 False   \n",
       "\n",
       "   Cancer_Stage=Stage II  Cancer_Stage=Stage III  Cancer_Stage=Stage IV  \n",
       "0                  False                    True                  False  \n",
       "1                  False                   False                  False  \n",
       "2                   True                   False                  False  \n",
       "3                  False                   False                  False  \n",
       "4                  False                    True                  False  \n",
       "\n",
       "[5 rows x 50 columns]"
      ],
      "text/html": [
       "<div>\n",
       "<style scoped>\n",
       "    .dataframe tbody tr th:only-of-type {\n",
       "        vertical-align: middle;\n",
       "    }\n",
       "\n",
       "    .dataframe tbody tr th {\n",
       "        vertical-align: top;\n",
       "    }\n",
       "\n",
       "    .dataframe thead th {\n",
       "        text-align: right;\n",
       "    }\n",
       "</style>\n",
       "<table border=\"1\" class=\"dataframe\">\n",
       "  <thead>\n",
       "    <tr style=\"text-align: right;\">\n",
       "      <th></th>\n",
       "      <th>Age_bin_1</th>\n",
       "      <th>Age_bin_2</th>\n",
       "      <th>Age_bin_3</th>\n",
       "      <th>Genetic_Risk_bin_1</th>\n",
       "      <th>Genetic_Risk_bin_2</th>\n",
       "      <th>Genetic_Risk_bin_3</th>\n",
       "      <th>Air_Pollution_bin_1</th>\n",
       "      <th>Air_Pollution_bin_2</th>\n",
       "      <th>Air_Pollution_bin_3</th>\n",
       "      <th>Alcohol_Use_bin_1</th>\n",
       "      <th>...</th>\n",
       "      <th>Cancer_Type=Leukemia</th>\n",
       "      <th>Cancer_Type=Liver</th>\n",
       "      <th>Cancer_Type=Lung</th>\n",
       "      <th>Cancer_Type=Prostate</th>\n",
       "      <th>Cancer_Type=Skin</th>\n",
       "      <th>Cancer_Stage=Stage 0</th>\n",
       "      <th>Cancer_Stage=Stage I</th>\n",
       "      <th>Cancer_Stage=Stage II</th>\n",
       "      <th>Cancer_Stage=Stage III</th>\n",
       "      <th>Cancer_Stage=Stage IV</th>\n",
       "    </tr>\n",
       "  </thead>\n",
       "  <tbody>\n",
       "    <tr>\n",
       "      <th>0</th>\n",
       "      <td>False</td>\n",
       "      <td>False</td>\n",
       "      <td>True</td>\n",
       "      <td>False</td>\n",
       "      <td>True</td>\n",
       "      <td>False</td>\n",
       "      <td>True</td>\n",
       "      <td>False</td>\n",
       "      <td>False</td>\n",
       "      <td>False</td>\n",
       "      <td>...</td>\n",
       "      <td>False</td>\n",
       "      <td>False</td>\n",
       "      <td>True</td>\n",
       "      <td>False</td>\n",
       "      <td>False</td>\n",
       "      <td>False</td>\n",
       "      <td>False</td>\n",
       "      <td>False</td>\n",
       "      <td>True</td>\n",
       "      <td>False</td>\n",
       "    </tr>\n",
       "    <tr>\n",
       "      <th>1</th>\n",
       "      <td>True</td>\n",
       "      <td>False</td>\n",
       "      <td>False</td>\n",
       "      <td>True</td>\n",
       "      <td>False</td>\n",
       "      <td>False</td>\n",
       "      <td>False</td>\n",
       "      <td>True</td>\n",
       "      <td>False</td>\n",
       "      <td>False</td>\n",
       "      <td>...</td>\n",
       "      <td>True</td>\n",
       "      <td>False</td>\n",
       "      <td>False</td>\n",
       "      <td>False</td>\n",
       "      <td>False</td>\n",
       "      <td>True</td>\n",
       "      <td>False</td>\n",
       "      <td>False</td>\n",
       "      <td>False</td>\n",
       "      <td>False</td>\n",
       "    </tr>\n",
       "    <tr>\n",
       "      <th>2</th>\n",
       "      <td>False</td>\n",
       "      <td>False</td>\n",
       "      <td>True</td>\n",
       "      <td>False</td>\n",
       "      <td>False</td>\n",
       "      <td>True</td>\n",
       "      <td>False</td>\n",
       "      <td>False</td>\n",
       "      <td>True</td>\n",
       "      <td>True</td>\n",
       "      <td>...</td>\n",
       "      <td>False</td>\n",
       "      <td>False</td>\n",
       "      <td>False</td>\n",
       "      <td>False</td>\n",
       "      <td>False</td>\n",
       "      <td>False</td>\n",
       "      <td>False</td>\n",
       "      <td>True</td>\n",
       "      <td>False</td>\n",
       "      <td>False</td>\n",
       "    </tr>\n",
       "    <tr>\n",
       "      <th>3</th>\n",
       "      <td>True</td>\n",
       "      <td>False</td>\n",
       "      <td>False</td>\n",
       "      <td>True</td>\n",
       "      <td>False</td>\n",
       "      <td>False</td>\n",
       "      <td>True</td>\n",
       "      <td>False</td>\n",
       "      <td>False</td>\n",
       "      <td>False</td>\n",
       "      <td>...</td>\n",
       "      <td>False</td>\n",
       "      <td>False</td>\n",
       "      <td>False</td>\n",
       "      <td>False</td>\n",
       "      <td>False</td>\n",
       "      <td>False</td>\n",
       "      <td>True</td>\n",
       "      <td>False</td>\n",
       "      <td>False</td>\n",
       "      <td>False</td>\n",
       "    </tr>\n",
       "    <tr>\n",
       "      <th>4</th>\n",
       "      <td>True</td>\n",
       "      <td>False</td>\n",
       "      <td>False</td>\n",
       "      <td>False</td>\n",
       "      <td>True</td>\n",
       "      <td>False</td>\n",
       "      <td>True</td>\n",
       "      <td>False</td>\n",
       "      <td>False</td>\n",
       "      <td>True</td>\n",
       "      <td>...</td>\n",
       "      <td>False</td>\n",
       "      <td>False</td>\n",
       "      <td>False</td>\n",
       "      <td>False</td>\n",
       "      <td>True</td>\n",
       "      <td>False</td>\n",
       "      <td>False</td>\n",
       "      <td>False</td>\n",
       "      <td>True</td>\n",
       "      <td>False</td>\n",
       "    </tr>\n",
       "  </tbody>\n",
       "</table>\n",
       "<p>5 rows × 50 columns</p>\n",
       "</div>"
      ]
     },
     "execution_count": 2,
     "metadata": {},
     "output_type": "execute_result"
    }
   ],
   "execution_count": 2
  },
  {
   "metadata": {
    "ExecuteTime": {
     "end_time": "2025-05-22T07:53:29.328811Z",
     "start_time": "2025-05-22T07:53:27.892280Z"
    }
   },
   "cell_type": "code",
   "source": [
    "from fca.api_models import Context\n",
    "from src.utils import create_context_from_dataframe, support, show_rules, show_concepts"
   ],
   "id": "a7fb9f289728e375",
   "outputs": [],
   "execution_count": 3
  },
  {
   "metadata": {
    "ExecuteTime": {
     "end_time": "2025-05-22T07:53:29.453Z",
     "start_time": "2025-05-22T07:53:29.446544Z"
    }
   },
   "cell_type": "code",
   "source": [
    "num_of_rows = 2000\n",
    "df_small = df.head(num_of_rows)"
   ],
   "id": "989aae921df5bf85",
   "outputs": [],
   "execution_count": 4
  },
  {
   "metadata": {
    "ExecuteTime": {
     "end_time": "2025-05-22T07:53:29.873038Z",
     "start_time": "2025-05-22T07:53:29.807016Z"
    }
   },
   "cell_type": "code",
   "source": [
    "objects, attributes, relation = create_context_from_dataframe(df)\n",
    "context = Context(objects, attributes, relation)\n",
    "\n",
    "objects, attributes, relation = create_context_from_dataframe(df_small)\n",
    "context_small = Context(objects, attributes, relation)"
   ],
   "id": "a72a6a174ac17ae1",
   "outputs": [],
   "execution_count": 5
  },
  {
   "metadata": {
    "ExecuteTime": {
     "end_time": "2025-05-22T07:53:52.392709Z",
     "start_time": "2025-05-22T07:53:30.138073Z"
    }
   },
   "cell_type": "code",
   "source": "concepts = context_small.get_concepts()",
   "id": "723eb773c09f1314",
   "outputs": [],
   "execution_count": 6
  },
  {
   "metadata": {
    "ExecuteTime": {
     "end_time": "2025-05-22T07:53:52.575861Z",
     "start_time": "2025-05-22T07:53:52.557645Z"
    }
   },
   "cell_type": "code",
   "source": "len(concepts)",
   "id": "5ca2d7392c370eda",
   "outputs": [
    {
     "data": {
      "text/plain": [
       "441269"
      ]
     },
     "execution_count": 7,
     "metadata": {},
     "output_type": "execute_result"
    }
   ],
   "execution_count": 7
  },
  {
   "metadata": {
    "ExecuteTime": {
     "end_time": "2025-05-22T07:53:53.302548Z",
     "start_time": "2025-05-22T07:53:52.772818Z"
    }
   },
   "cell_type": "code",
   "source": "show_concepts(concepts, 0.15, 2, num_of_rows)",
   "id": "8f544df26da5859c",
   "outputs": [
    {
     "name": "stdout",
     "output_type": "stream",
     "text": [
      "1: ['Genetic_Risk_bin_1', 'Target_Severity_Score_bin_1'] - 0.185\n",
      "2: ['Genetic_Risk_bin_3', 'Target_Severity_Score_bin_3'] - 0.1825\n",
      "3: ['Air_Pollution_bin_1', 'Target_Severity_Score_bin_1'] - 0.1845\n",
      "4: ['Air_Pollution_bin_3', 'Target_Severity_Score_bin_3'] - 0.154\n",
      "5: ['Alcohol_Use_bin_1', 'Target_Severity_Score_bin_1'] - 0.1675\n",
      "6: ['Alcohol_Use_bin_3', 'Target_Severity_Score_bin_3'] - 0.1575\n",
      "7: ['Smoking_bin_1', 'Target_Severity_Score_bin_1'] - 0.188\n",
      "8: ['Smoking_bin_3', 'Target_Severity_Score_bin_3'] - 0.18\n",
      "9: ['Obesity_Level_bin_1', 'Target_Severity_Score_bin_1'] - 0.1635\n"
     ]
    }
   ],
   "execution_count": 8
  },
  {
   "metadata": {
    "ExecuteTime": {
     "end_time": "2025-05-22T07:53:54.130684Z",
     "start_time": "2025-05-22T07:53:53.487282Z"
    }
   },
   "cell_type": "code",
   "source": "rules = list(context.get_association_rules(min_support=0.15, min_confidence=0.5))",
   "id": "14f965f484e3fa5a",
   "outputs": [],
   "execution_count": 9
  },
  {
   "metadata": {
    "ExecuteTime": {
     "end_time": "2025-05-22T07:53:54.323165Z",
     "start_time": "2025-05-22T07:53:54.316424Z"
    }
   },
   "cell_type": "code",
   "source": "show_rules(rules)",
   "id": "96fc261ea2372bee",
   "outputs": [
    {
     "name": "stdout",
     "output_type": "stream",
     "text": [
      "1: Target_Severity_Score_bin_1 -> Air_Pollution_bin_1\n",
      "Support: 0.1689 - Confidence : 0.5025 - Lift: 1.4662\n",
      "2: Genetic_Risk_bin_1 -> Target_Severity_Score_bin_1\n",
      "Support: 0.1846 - Confidence : 0.5524 - Lift: 1.6431\n",
      "3: Genetic_Risk_bin_3 -> Target_Severity_Score_bin_3\n",
      "Support: 0.1783 - Confidence : 0.5486 - Lift: 1.6537\n",
      "4: Smoking_bin_1 -> Target_Severity_Score_bin_1\n",
      "Support: 0.1859 - Confidence : 0.5525 - Lift: 1.6436\n",
      "5: Smoking_bin_3 -> Target_Severity_Score_bin_3\n",
      "Support: 0.1840 - Confidence : 0.5530 - Lift: 1.6672\n"
     ]
    }
   ],
   "execution_count": 10
  },
  {
   "metadata": {},
   "cell_type": "markdown",
   "source": "ESS Dataset",
   "id": "75b67280330fef51"
  },
  {
   "metadata": {
    "ExecuteTime": {
     "end_time": "2025-05-22T07:53:54.584665Z",
     "start_time": "2025-05-22T07:53:54.538184Z"
    }
   },
   "cell_type": "code",
   "source": "df = pd.read_csv(\"../data/essround1.csv\")",
   "id": "ddc24d92152e8c8c",
   "outputs": [],
   "execution_count": 11
  },
  {
   "metadata": {
    "ExecuteTime": {
     "end_time": "2025-05-22T07:53:54.796655Z",
     "start_time": "2025-05-22T07:53:54.772949Z"
    }
   },
   "cell_type": "code",
   "source": "df.head()",
   "id": "972e0b728b21da12",
   "outputs": [
    {
     "data": {
      "text/plain": [
       "   aesfdrk_1_2  aesfdrk_2_2  clsprty_1_3  clsprty_2_3  clsprty_3_3  \\\n",
       "0        False        False         True        False        False   \n",
       "1         True        False         True        False        False   \n",
       "2         True        False         True        False        False   \n",
       "3        False         True         True        False        False   \n",
       "4        False         True         True        False        False   \n",
       "\n",
       "   freehms_1_3  freehms_2_3  freehms_3_3  gincdif_1_3  gincdif_2_3  ...  \\\n",
       "0        False        False        False        False        False  ...   \n",
       "1        False         True        False        False        False  ...   \n",
       "2        False         True        False        False        False  ...   \n",
       "3         True        False        False         True        False  ...   \n",
       "4         True        False        False         True        False  ...   \n",
       "\n",
       "   trstplc_3_3  trstplt_1_3  trstplt_2_3  trstplt_3_3  trstprl_1_3  \\\n",
       "0         True        False        False         True        False   \n",
       "1         True        False         True        False        False   \n",
       "2         True        False         True        False        False   \n",
       "3         True        False        False         True        False   \n",
       "4         True        False        False         True        False   \n",
       "\n",
       "   trstprl_2_3  trstprl_3_3  trstun_1_3  trstun_2_3  trstun_3_3  \n",
       "0        False         True       False       False       False  \n",
       "1        False         True       False        True       False  \n",
       "2        False         True       False       False        True  \n",
       "3        False         True       False       False        True  \n",
       "4        False         True       False        True       False  \n",
       "\n",
       "[5 rows x 154 columns]"
      ],
      "text/html": [
       "<div>\n",
       "<style scoped>\n",
       "    .dataframe tbody tr th:only-of-type {\n",
       "        vertical-align: middle;\n",
       "    }\n",
       "\n",
       "    .dataframe tbody tr th {\n",
       "        vertical-align: top;\n",
       "    }\n",
       "\n",
       "    .dataframe thead th {\n",
       "        text-align: right;\n",
       "    }\n",
       "</style>\n",
       "<table border=\"1\" class=\"dataframe\">\n",
       "  <thead>\n",
       "    <tr style=\"text-align: right;\">\n",
       "      <th></th>\n",
       "      <th>aesfdrk_1_2</th>\n",
       "      <th>aesfdrk_2_2</th>\n",
       "      <th>clsprty_1_3</th>\n",
       "      <th>clsprty_2_3</th>\n",
       "      <th>clsprty_3_3</th>\n",
       "      <th>freehms_1_3</th>\n",
       "      <th>freehms_2_3</th>\n",
       "      <th>freehms_3_3</th>\n",
       "      <th>gincdif_1_3</th>\n",
       "      <th>gincdif_2_3</th>\n",
       "      <th>...</th>\n",
       "      <th>trstplc_3_3</th>\n",
       "      <th>trstplt_1_3</th>\n",
       "      <th>trstplt_2_3</th>\n",
       "      <th>trstplt_3_3</th>\n",
       "      <th>trstprl_1_3</th>\n",
       "      <th>trstprl_2_3</th>\n",
       "      <th>trstprl_3_3</th>\n",
       "      <th>trstun_1_3</th>\n",
       "      <th>trstun_2_3</th>\n",
       "      <th>trstun_3_3</th>\n",
       "    </tr>\n",
       "  </thead>\n",
       "  <tbody>\n",
       "    <tr>\n",
       "      <th>0</th>\n",
       "      <td>False</td>\n",
       "      <td>False</td>\n",
       "      <td>True</td>\n",
       "      <td>False</td>\n",
       "      <td>False</td>\n",
       "      <td>False</td>\n",
       "      <td>False</td>\n",
       "      <td>False</td>\n",
       "      <td>False</td>\n",
       "      <td>False</td>\n",
       "      <td>...</td>\n",
       "      <td>True</td>\n",
       "      <td>False</td>\n",
       "      <td>False</td>\n",
       "      <td>True</td>\n",
       "      <td>False</td>\n",
       "      <td>False</td>\n",
       "      <td>True</td>\n",
       "      <td>False</td>\n",
       "      <td>False</td>\n",
       "      <td>False</td>\n",
       "    </tr>\n",
       "    <tr>\n",
       "      <th>1</th>\n",
       "      <td>True</td>\n",
       "      <td>False</td>\n",
       "      <td>True</td>\n",
       "      <td>False</td>\n",
       "      <td>False</td>\n",
       "      <td>False</td>\n",
       "      <td>True</td>\n",
       "      <td>False</td>\n",
       "      <td>False</td>\n",
       "      <td>False</td>\n",
       "      <td>...</td>\n",
       "      <td>True</td>\n",
       "      <td>False</td>\n",
       "      <td>True</td>\n",
       "      <td>False</td>\n",
       "      <td>False</td>\n",
       "      <td>False</td>\n",
       "      <td>True</td>\n",
       "      <td>False</td>\n",
       "      <td>True</td>\n",
       "      <td>False</td>\n",
       "    </tr>\n",
       "    <tr>\n",
       "      <th>2</th>\n",
       "      <td>True</td>\n",
       "      <td>False</td>\n",
       "      <td>True</td>\n",
       "      <td>False</td>\n",
       "      <td>False</td>\n",
       "      <td>False</td>\n",
       "      <td>True</td>\n",
       "      <td>False</td>\n",
       "      <td>False</td>\n",
       "      <td>False</td>\n",
       "      <td>...</td>\n",
       "      <td>True</td>\n",
       "      <td>False</td>\n",
       "      <td>True</td>\n",
       "      <td>False</td>\n",
       "      <td>False</td>\n",
       "      <td>False</td>\n",
       "      <td>True</td>\n",
       "      <td>False</td>\n",
       "      <td>False</td>\n",
       "      <td>True</td>\n",
       "    </tr>\n",
       "    <tr>\n",
       "      <th>3</th>\n",
       "      <td>False</td>\n",
       "      <td>True</td>\n",
       "      <td>True</td>\n",
       "      <td>False</td>\n",
       "      <td>False</td>\n",
       "      <td>True</td>\n",
       "      <td>False</td>\n",
       "      <td>False</td>\n",
       "      <td>True</td>\n",
       "      <td>False</td>\n",
       "      <td>...</td>\n",
       "      <td>True</td>\n",
       "      <td>False</td>\n",
       "      <td>False</td>\n",
       "      <td>True</td>\n",
       "      <td>False</td>\n",
       "      <td>False</td>\n",
       "      <td>True</td>\n",
       "      <td>False</td>\n",
       "      <td>False</td>\n",
       "      <td>True</td>\n",
       "    </tr>\n",
       "    <tr>\n",
       "      <th>4</th>\n",
       "      <td>False</td>\n",
       "      <td>True</td>\n",
       "      <td>True</td>\n",
       "      <td>False</td>\n",
       "      <td>False</td>\n",
       "      <td>True</td>\n",
       "      <td>False</td>\n",
       "      <td>False</td>\n",
       "      <td>True</td>\n",
       "      <td>False</td>\n",
       "      <td>...</td>\n",
       "      <td>True</td>\n",
       "      <td>False</td>\n",
       "      <td>False</td>\n",
       "      <td>True</td>\n",
       "      <td>False</td>\n",
       "      <td>False</td>\n",
       "      <td>True</td>\n",
       "      <td>False</td>\n",
       "      <td>True</td>\n",
       "      <td>False</td>\n",
       "    </tr>\n",
       "  </tbody>\n",
       "</table>\n",
       "<p>5 rows × 154 columns</p>\n",
       "</div>"
      ]
     },
     "execution_count": 12,
     "metadata": {},
     "output_type": "execute_result"
    }
   ],
   "execution_count": 12
  },
  {
   "metadata": {
    "ExecuteTime": {
     "end_time": "2025-05-22T07:53:55.125963Z",
     "start_time": "2025-05-22T07:53:55.116038Z"
    }
   },
   "cell_type": "code",
   "source": [
    "num_of_rows = 20\n",
    "df_small = df.head(num_of_rows)"
   ],
   "id": "406b347dc8afd2e0",
   "outputs": [],
   "execution_count": 13
  },
  {
   "metadata": {
    "ExecuteTime": {
     "end_time": "2025-05-22T07:53:55.472731Z",
     "start_time": "2025-05-22T07:53:55.441779Z"
    }
   },
   "cell_type": "code",
   "source": [
    "objects, attributes, relation = create_context_from_dataframe(df)\n",
    "context = Context(objects, attributes, relation)\n",
    "\n",
    "objects, attributes, relation = create_context_from_dataframe(df_small)\n",
    "context_small = Context(objects, attributes, relation)"
   ],
   "id": "6e93745962209124",
   "outputs": [],
   "execution_count": 14
  },
  {
   "metadata": {
    "ExecuteTime": {
     "end_time": "2025-05-22T07:53:56.413795Z",
     "start_time": "2025-05-22T07:53:56.278055Z"
    }
   },
   "cell_type": "code",
   "source": "rules = list(context.get_association_rules(min_support=0.7, min_confidence=0.9))",
   "id": "763d1e8245de3533",
   "outputs": [],
   "execution_count": 15
  },
  {
   "metadata": {
    "ExecuteTime": {
     "end_time": "2025-05-22T07:53:56.850600Z",
     "start_time": "2025-05-22T07:53:56.840399Z"
    }
   },
   "cell_type": "code",
   "source": "show_rules(rules)",
   "id": "656d2e9e730fa327",
   "outputs": [
    {
     "name": "stdout",
     "output_type": "stream",
     "text": [
      "1: aesfdrk_2_2 -> clsprty_1_3\n",
      "Support: 0.7651 - Confidence : 0.9791 - Lift: 1.0034\n",
      "2: freehms_1_3 -> clsprty_1_3\n",
      "Support: 0.7667 - Confidence : 0.9792 - Lift: 1.0035\n",
      "3: happy_3_3 -> clsprty_1_3\n",
      "Support: 0.8236 - Confidence : 0.9793 - Lift: 1.0036\n",
      "4: health_1_3 -> clsprty_1_3\n",
      "Support: 0.7662 - Confidence : 0.9798 - Lift: 1.0041\n",
      "5: impcntr_1_3 -> clsprty_1_3\n",
      "Support: 0.8283 - Confidence : 0.9782 - Lift: 1.0025\n",
      "6: impenv_1_3 -> clsprty_1_3\n",
      "Support: 0.7056 - Confidence : 0.9788 - Lift: 1.0031\n",
      "7: ipeqopt_1_3 -> clsprty_1_3\n",
      "Support: 0.7346 - Confidence : 0.9776 - Lift: 1.0018\n",
      "8: iplylfr_1_3 -> clsprty_1_3\n",
      "Support: 0.8420 - Confidence : 0.9798 - Lift: 1.0041\n",
      "9: stflife_3_3 -> clsprty_1_3\n",
      "Support: 0.7620 - Confidence : 0.9797 - Lift: 1.0040\n",
      "10: stflife_3_3 -> happy_3_3\n",
      "Support: 0.7378 - Confidence : 0.9485 - Lift: 1.1279\n",
      "11: impcntr_1_3, happy_3_3 -> clsprty_1_3\n",
      "Support: 0.7077 - Confidence : 0.9796 - Lift: 1.0039\n",
      "12: iplylfr_1_3, happy_3_3 -> clsprty_1_3\n",
      "Support: 0.7183 - Confidence : 0.9834 - Lift: 1.0078\n",
      "13: stflife_3_3 -> clsprty_1_3, happy_3_3\n",
      "Support: 0.7235 - Confidence : 0.9303 - Lift: 1.1295\n",
      "14: iplylfr_1_3, impcntr_1_3 -> clsprty_1_3\n",
      "Support: 0.7230 - Confidence : 0.9821 - Lift: 1.0065\n"
     ]
    }
   ],
   "execution_count": 16
  },
  {
   "metadata": {
    "ExecuteTime": {
     "end_time": "2025-05-22T07:53:57.156233Z",
     "start_time": "2025-05-22T07:53:56.962332Z"
    }
   },
   "cell_type": "code",
   "source": "concepts = context_small.get_concepts()",
   "id": "61c2494b47162276",
   "outputs": [],
   "execution_count": 17
  },
  {
   "metadata": {
    "ExecuteTime": {
     "end_time": "2025-05-22T07:53:57.237820Z",
     "start_time": "2025-05-22T07:53:57.229518Z"
    }
   },
   "cell_type": "code",
   "source": "show_concepts(concepts, 0.7, 2, num_of_rows)",
   "id": "e8fcc3b07ed3207b",
   "outputs": [
    {
     "name": "stdout",
     "output_type": "stream",
     "text": [
      "1: ['clsprty_1_3', 'happy_3_3', 'impcntr_1_3', 'stfedu_3_3', 'stfhlth_3_3'] - 0.9\n",
      "2: ['clsprty_1_3', 'happy_3_3', 'health_1_3', 'impcntr_1_3', 'stfedu_3_3', 'stfhlth_3_3'] - 0.8\n",
      "3: ['clsprty_1_3', 'happy_3_3', 'health_1_3', 'imdfetn_2_3', 'impcntr_1_3', 'impfree_1_3', 'ipadvnt_2_3', 'iprspot_2_3', 'stfedu_3_3', 'stfhlth_3_3'] - 0.7\n",
      "4: ['clsprty_1_3', 'happy_3_3', 'health_1_3', 'impcntr_1_3', 'impenv_1_3', 'iplylfr_1_3', 'stfedu_3_3', 'stfhlth_3_3'] - 0.7\n",
      "5: ['clsprty_1_3', 'happy_3_3', 'health_1_3', 'impcntr_1_3', 'ipeqopt_1_3', 'stfedu_3_3', 'stfhlth_3_3'] - 0.7\n",
      "6: ['clsprty_1_3', 'happy_3_3', 'imdfetn_2_3', 'impcntr_1_3', 'impfree_1_3', 'iprspot_2_3', 'stfedu_3_3', 'stfhlth_3_3'] - 0.8\n",
      "7: ['clsprty_1_3', 'happy_3_3', 'imdfetn_2_3', 'impcntr_1_3', 'impfree_1_3', 'iphlppl_1_3', 'iprspot_2_3', 'stfedu_3_3', 'stfhlth_3_3'] - 0.7\n",
      "8: ['clsprty_1_3', 'happy_3_3', 'imdfetn_2_3', 'impcntr_1_3', 'impfree_1_3', 'iprspot_2_3', 'ipsuces_1_3', 'stfedu_3_3', 'stfhlth_3_3'] - 0.7\n",
      "9: ['clsprty_1_3', 'happy_3_3', 'imdfetn_2_3', 'impcntr_1_3', 'impfree_1_3', 'iprspot_2_3', 'stfedu_3_3', 'stfhlth_3_3', 'stflife_3_3'] - 0.7\n",
      "10: ['clsprty_1_3', 'happy_3_3', 'impcntr_1_3', 'impdiff_2_3', 'stfedu_3_3', 'stfhlth_3_3'] - 0.7\n",
      "11: ['clsprty_1_3', 'happy_3_3', 'impcntr_1_3', 'imwbcnt_2_3', 'stfedu_3_3', 'stfhlth_3_3'] - 0.7\n",
      "12: ['clsprty_1_3', 'trstprl_3_3'] - 0.7\n"
     ]
    }
   ],
   "execution_count": 18
  }
 ],
 "metadata": {
  "kernelspec": {
   "display_name": "Python 3",
   "language": "python",
   "name": "python3"
  },
  "language_info": {
   "codemirror_mode": {
    "name": "ipython",
    "version": 2
   },
   "file_extension": ".py",
   "mimetype": "text/x-python",
   "name": "python",
   "nbconvert_exporter": "python",
   "pygments_lexer": "ipython2",
   "version": "2.7.6"
  }
 },
 "nbformat": 4,
 "nbformat_minor": 5
}
