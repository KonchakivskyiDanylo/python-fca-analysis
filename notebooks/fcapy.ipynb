{
 "cells": [
  {
   "cell_type": "code",
   "id": "initial_id",
   "metadata": {
    "collapsed": true,
    "ExecuteTime": {
     "end_time": "2025-05-14T17:08:25.160600Z",
     "start_time": "2025-05-14T17:08:24.028667Z"
    }
   },
   "source": [
    "import pandas as pd\n",
    "from src import utils\n",
    "\n",
    "df = pd.read_csv('../data/cancer.csv')"
   ],
   "outputs": [],
   "execution_count": 1
  },
  {
   "metadata": {
    "ExecuteTime": {
     "end_time": "2025-05-14T17:08:37.752389Z",
     "start_time": "2025-05-14T17:08:25.427999Z"
    }
   },
   "cell_type": "code",
   "source": "df_prep = utils.process_dataset_for_fca(df)",
   "id": "e4422a9c9771e0aa",
   "outputs": [],
   "execution_count": 2
  },
  {
   "metadata": {
    "ExecuteTime": {
     "end_time": "2025-05-14T17:08:37.913613Z",
     "start_time": "2025-05-14T17:08:37.865335Z"
    }
   },
   "cell_type": "code",
   "source": "df_prep.head()",
   "id": "3c779434c976324b",
   "outputs": [
    {
     "data": {
      "text/plain": [
       "   Age_bin_1  Age_bin_2  Age_bin_3  Year_bin_1  Year_bin_2  Year_bin_3  \\\n",
       "0      False      False       True       False        True       False   \n",
       "1       True      False      False       False        True       False   \n",
       "2      False      False       True       False       False        True   \n",
       "3       True      False      False        True       False       False   \n",
       "4       True      False      False        True       False       False   \n",
       "\n",
       "   Genetic_Risk_bin_1  Genetic_Risk_bin_2  Genetic_Risk_bin_3  \\\n",
       "0               False                True               False   \n",
       "1                True               False               False   \n",
       "2               False               False                True   \n",
       "3                True               False               False   \n",
       "4               False                True               False   \n",
       "\n",
       "   Air_Pollution_bin_1  ...  Cancer_Type=Leukemia  Cancer_Type=Liver  \\\n",
       "0                 True  ...                 False              False   \n",
       "1                False  ...                  True              False   \n",
       "2                False  ...                 False              False   \n",
       "3                 True  ...                 False              False   \n",
       "4                 True  ...                 False              False   \n",
       "\n",
       "   Cancer_Type=Lung  Cancer_Type=Prostate  Cancer_Type=Skin  \\\n",
       "0              True                 False             False   \n",
       "1             False                 False             False   \n",
       "2             False                 False             False   \n",
       "3             False                 False             False   \n",
       "4             False                 False              True   \n",
       "\n",
       "   Cancer_Stage=Stage 0  Cancer_Stage=Stage I  Cancer_Stage=Stage II  \\\n",
       "0                 False                 False                  False   \n",
       "1                  True                 False                  False   \n",
       "2                 False                 False                   True   \n",
       "3                 False                  True                  False   \n",
       "4                 False                 False                  False   \n",
       "\n",
       "   Cancer_Stage=Stage III  Cancer_Stage=Stage IV  \n",
       "0                    True                  False  \n",
       "1                   False                  False  \n",
       "2                   False                  False  \n",
       "3                   False                  False  \n",
       "4                    True                  False  \n",
       "\n",
       "[5 rows x 50056 columns]"
      ],
      "text/html": [
       "<div>\n",
       "<style scoped>\n",
       "    .dataframe tbody tr th:only-of-type {\n",
       "        vertical-align: middle;\n",
       "    }\n",
       "\n",
       "    .dataframe tbody tr th {\n",
       "        vertical-align: top;\n",
       "    }\n",
       "\n",
       "    .dataframe thead th {\n",
       "        text-align: right;\n",
       "    }\n",
       "</style>\n",
       "<table border=\"1\" class=\"dataframe\">\n",
       "  <thead>\n",
       "    <tr style=\"text-align: right;\">\n",
       "      <th></th>\n",
       "      <th>Age_bin_1</th>\n",
       "      <th>Age_bin_2</th>\n",
       "      <th>Age_bin_3</th>\n",
       "      <th>Year_bin_1</th>\n",
       "      <th>Year_bin_2</th>\n",
       "      <th>Year_bin_3</th>\n",
       "      <th>Genetic_Risk_bin_1</th>\n",
       "      <th>Genetic_Risk_bin_2</th>\n",
       "      <th>Genetic_Risk_bin_3</th>\n",
       "      <th>Air_Pollution_bin_1</th>\n",
       "      <th>...</th>\n",
       "      <th>Cancer_Type=Leukemia</th>\n",
       "      <th>Cancer_Type=Liver</th>\n",
       "      <th>Cancer_Type=Lung</th>\n",
       "      <th>Cancer_Type=Prostate</th>\n",
       "      <th>Cancer_Type=Skin</th>\n",
       "      <th>Cancer_Stage=Stage 0</th>\n",
       "      <th>Cancer_Stage=Stage I</th>\n",
       "      <th>Cancer_Stage=Stage II</th>\n",
       "      <th>Cancer_Stage=Stage III</th>\n",
       "      <th>Cancer_Stage=Stage IV</th>\n",
       "    </tr>\n",
       "  </thead>\n",
       "  <tbody>\n",
       "    <tr>\n",
       "      <th>0</th>\n",
       "      <td>False</td>\n",
       "      <td>False</td>\n",
       "      <td>True</td>\n",
       "      <td>False</td>\n",
       "      <td>True</td>\n",
       "      <td>False</td>\n",
       "      <td>False</td>\n",
       "      <td>True</td>\n",
       "      <td>False</td>\n",
       "      <td>True</td>\n",
       "      <td>...</td>\n",
       "      <td>False</td>\n",
       "      <td>False</td>\n",
       "      <td>True</td>\n",
       "      <td>False</td>\n",
       "      <td>False</td>\n",
       "      <td>False</td>\n",
       "      <td>False</td>\n",
       "      <td>False</td>\n",
       "      <td>True</td>\n",
       "      <td>False</td>\n",
       "    </tr>\n",
       "    <tr>\n",
       "      <th>1</th>\n",
       "      <td>True</td>\n",
       "      <td>False</td>\n",
       "      <td>False</td>\n",
       "      <td>False</td>\n",
       "      <td>True</td>\n",
       "      <td>False</td>\n",
       "      <td>True</td>\n",
       "      <td>False</td>\n",
       "      <td>False</td>\n",
       "      <td>False</td>\n",
       "      <td>...</td>\n",
       "      <td>True</td>\n",
       "      <td>False</td>\n",
       "      <td>False</td>\n",
       "      <td>False</td>\n",
       "      <td>False</td>\n",
       "      <td>True</td>\n",
       "      <td>False</td>\n",
       "      <td>False</td>\n",
       "      <td>False</td>\n",
       "      <td>False</td>\n",
       "    </tr>\n",
       "    <tr>\n",
       "      <th>2</th>\n",
       "      <td>False</td>\n",
       "      <td>False</td>\n",
       "      <td>True</td>\n",
       "      <td>False</td>\n",
       "      <td>False</td>\n",
       "      <td>True</td>\n",
       "      <td>False</td>\n",
       "      <td>False</td>\n",
       "      <td>True</td>\n",
       "      <td>False</td>\n",
       "      <td>...</td>\n",
       "      <td>False</td>\n",
       "      <td>False</td>\n",
       "      <td>False</td>\n",
       "      <td>False</td>\n",
       "      <td>False</td>\n",
       "      <td>False</td>\n",
       "      <td>False</td>\n",
       "      <td>True</td>\n",
       "      <td>False</td>\n",
       "      <td>False</td>\n",
       "    </tr>\n",
       "    <tr>\n",
       "      <th>3</th>\n",
       "      <td>True</td>\n",
       "      <td>False</td>\n",
       "      <td>False</td>\n",
       "      <td>True</td>\n",
       "      <td>False</td>\n",
       "      <td>False</td>\n",
       "      <td>True</td>\n",
       "      <td>False</td>\n",
       "      <td>False</td>\n",
       "      <td>True</td>\n",
       "      <td>...</td>\n",
       "      <td>False</td>\n",
       "      <td>False</td>\n",
       "      <td>False</td>\n",
       "      <td>False</td>\n",
       "      <td>False</td>\n",
       "      <td>False</td>\n",
       "      <td>True</td>\n",
       "      <td>False</td>\n",
       "      <td>False</td>\n",
       "      <td>False</td>\n",
       "    </tr>\n",
       "    <tr>\n",
       "      <th>4</th>\n",
       "      <td>True</td>\n",
       "      <td>False</td>\n",
       "      <td>False</td>\n",
       "      <td>True</td>\n",
       "      <td>False</td>\n",
       "      <td>False</td>\n",
       "      <td>False</td>\n",
       "      <td>True</td>\n",
       "      <td>False</td>\n",
       "      <td>True</td>\n",
       "      <td>...</td>\n",
       "      <td>False</td>\n",
       "      <td>False</td>\n",
       "      <td>False</td>\n",
       "      <td>False</td>\n",
       "      <td>True</td>\n",
       "      <td>False</td>\n",
       "      <td>False</td>\n",
       "      <td>False</td>\n",
       "      <td>True</td>\n",
       "      <td>False</td>\n",
       "    </tr>\n",
       "  </tbody>\n",
       "</table>\n",
       "<p>5 rows × 50056 columns</p>\n",
       "</div>"
      ]
     },
     "execution_count": 3,
     "metadata": {},
     "output_type": "execute_result"
    }
   ],
   "execution_count": 3
  },
  {
   "metadata": {
    "ExecuteTime": {
     "end_time": "2025-05-14T17:10:15.002528Z",
     "start_time": "2025-05-14T17:10:00.302185Z"
    }
   },
   "cell_type": "code",
   "source": [
    "from fcapy.context import FormalContext\n",
    "from fcapy.lattice import ConceptLattice\n",
    "from fcapy.lattice.concept_measures import stability, stability_bounds"
   ],
   "id": "e547e403f39167e1",
   "outputs": [
    {
     "name": "stderr",
     "output_type": "stream",
     "text": [
      "C:\\Users\\misha\\AppData\\Local\\Programs\\Python\\Python313\\Lib\\site-packages\\tqdm\\auto.py:21: TqdmWarning: IProgress not found. Please update jupyter and ipywidgets. See https://ipywidgets.readthedocs.io/en/stable/user_install.html\n",
      "  from .autonotebook import tqdm as notebook_tqdm\n"
     ]
    }
   ],
   "execution_count": 4
  },
  {
   "metadata": {
    "ExecuteTime": {
     "end_time": "2025-05-14T17:11:31.828884Z",
     "start_time": "2025-05-14T17:11:31.809525Z"
    }
   },
   "cell_type": "code",
   "source": [
    "df_prep.index = df_prep.index.astype(str)\n",
    "df_part = df_prep[:1000]"
   ],
   "id": "4f953900fad3d515",
   "outputs": [],
   "execution_count": 7
  },
  {
   "metadata": {
    "ExecuteTime": {
     "end_time": "2025-05-14T17:11:37.470565Z",
     "start_time": "2025-05-14T17:11:32.800289Z"
    }
   },
   "cell_type": "code",
   "source": "context = FormalContext.from_pandas(df_part)",
   "id": "4e5e7c6de49191bb",
   "outputs": [],
   "execution_count": 8
  },
  {
   "metadata": {
    "ExecuteTime": {
     "end_time": "2025-05-14T17:11:51.978836Z",
     "start_time": "2025-05-14T17:11:48.967401Z"
    }
   },
   "cell_type": "code",
   "source": "context",
   "id": "68b8085c84fe8dca",
   "outputs": [
    {
     "data": {
      "text/plain": [
       "FormalContext (1000 objects, 50056 attributes, 15000 connections)\n",
       "   |Age_bin_1|Age_bin_2|Age_bin_3|Year_bin_1|Year_bin_2|...|Cancer_Stage=Stage 0|Cancer_Stage=Stage I|Cancer_Stage=Stage II|Cancer_Stage=Stage III|Cancer_Stage=Stage IV|\n",
       "0  |         |         |        X|          |         X|...|                    |                    |                     |                     X|                     |\n",
       "1  |        X|         |         |          |         X|...|                   X|                    |                     |                      |                     |\n",
       "2  |         |         |        X|          |          |...|                    |                    |                    X|                      |                     |\n",
       "3  |        X|         |         |         X|          |...|                    |                   X|                     |                      |                     |\n",
       "4  |        X|         |         |         X|          |...|                    |                    |                     |                     X|                     |\n",
       "5  |        X|         |         |         X|          |...|                    |                    |                     |                      |                    X|\n",
       "6  |        X|         |         |          |         X|...|                   X|                    |                     |                      |                     |\n",
       "7  |         |         |        X|         X|          |...|                    |                   X|                     |                      |                     |\n",
       "8  |        X|         |         |          |          |...|                    |                    |                    X|                      |                     |\n",
       "9  |         |        X|         |         X|          |...|                    |                    |                    X|                      |                     |\n",
       ".........................................................................................................................................................................\n",
       ".........................................................................................................................................................................\n",
       "990|         |        X|         |          |          |...|                    |                    |                     |                      |                    X|\n",
       "991|         |        X|         |         X|          |...|                    |                   X|                     |                      |                     |\n",
       "992|        X|         |         |         X|          |...|                   X|                    |                     |                      |                     |\n",
       "993|         |         |        X|          |         X|...|                    |                    |                    X|                      |                     |\n",
       "994|         |        X|         |         X|          |...|                    |                    |                    X|                      |                     |\n",
       "995|         |         |        X|          |         X|...|                    |                   X|                     |                      |                     |\n",
       "996|        X|         |         |          |         X|...|                   X|                    |                     |                      |                     |\n",
       "997|         |         |        X|         X|          |...|                   X|                    |                     |                      |                     |\n",
       "998|         |         |        X|          |         X|...|                    |                    |                     |                     X|                     |\n",
       "999|        X|         |         |         X|          |...|                    |                    |                     |                      |                    X|"
      ]
     },
     "execution_count": 9,
     "metadata": {},
     "output_type": "execute_result"
    }
   ],
   "execution_count": 9
  },
  {
   "metadata": {
    "ExecuteTime": {
     "end_time": "2025-05-14T17:20:10.256469Z",
     "start_time": "2025-05-14T17:12:06.812744Z"
    }
   },
   "cell_type": "code",
   "source": [
    "lattice = ConceptLattice.from_context(context, algo='Sofia',\n",
    "                                      use_tqdm=True)"
   ],
   "id": "aa2125733a4e1689",
   "outputs": [
    {
     "name": "stderr",
     "output_type": "stream",
     "text": [
      "Iter. Sofia projections: 100%|██████████| 50056/50056 [01:10<00:00, 712.18it/s]\n"
     ]
    }
   ],
   "execution_count": 10
  },
  {
   "metadata": {
    "ExecuteTime": {
     "end_time": "2025-05-14T17:20:13.174014Z",
     "start_time": "2025-05-14T17:20:13.167995Z"
    }
   },
   "cell_type": "code",
   "source": "len(lattice)",
   "id": "62a36a74670229d6",
   "outputs": [
    {
     "data": {
      "text/plain": [
       "101"
      ]
     },
     "execution_count": 11,
     "metadata": {},
     "output_type": "execute_result"
    }
   ],
   "execution_count": 11
  },
  {
   "metadata": {
    "ExecuteTime": {
     "end_time": "2025-05-14T17:20:15.949231Z",
     "start_time": "2025-05-14T17:20:15.942271Z"
    }
   },
   "cell_type": "code",
   "source": "lattice[0].support, lattice[1].support, lattice[2].support",
   "id": "68d5c73f5fe0cb1d",
   "outputs": [
    {
     "data": {
      "text/plain": [
       "(1000, 415, 363)"
      ]
     },
     "execution_count": 12,
     "metadata": {},
     "output_type": "execute_result"
    }
   ],
   "execution_count": 12
  },
  {
   "metadata": {
    "ExecuteTime": {
     "end_time": "2025-05-14T17:20:18.677924Z",
     "start_time": "2025-05-14T17:20:18.669578Z"
    }
   },
   "cell_type": "code",
   "source": "lattice[99].support",
   "id": "876e79a5ab00465b",
   "outputs": [
    {
     "data": {
      "text/plain": [
       "114"
      ]
     },
     "execution_count": 13,
     "metadata": {},
     "output_type": "execute_result"
    }
   ],
   "execution_count": 13
  },
  {
   "metadata": {
    "ExecuteTime": {
     "end_time": "2025-05-14T17:20:21.380709Z",
     "start_time": "2025-05-14T17:20:21.375388Z"
    }
   },
   "cell_type": "code",
   "source": "lattice[0].intent",
   "id": "aee96798a4756487",
   "outputs": [
    {
     "data": {
      "text/plain": [
       "()"
      ]
     },
     "execution_count": 14,
     "metadata": {},
     "output_type": "execute_result"
    }
   ],
   "execution_count": 14
  },
  {
   "metadata": {
    "ExecuteTime": {
     "end_time": "2025-05-14T17:20:24.025337Z",
     "start_time": "2025-05-14T17:20:24.017252Z"
    }
   },
   "cell_type": "code",
   "source": "lattice[1].intent",
   "id": "60472106ad52472",
   "outputs": [
    {
     "data": {
      "text/plain": [
       "('Year_bin_1',)"
      ]
     },
     "execution_count": 15,
     "metadata": {},
     "output_type": "execute_result"
    }
   ],
   "execution_count": 15
  },
  {
   "metadata": {
    "ExecuteTime": {
     "end_time": "2025-05-14T17:23:51.121527Z",
     "start_time": "2025-05-14T17:23:51.112012Z"
    }
   },
   "cell_type": "code",
   "source": "lattice[99].intent",
   "id": "2694169d24a61c82",
   "outputs": [
    {
     "data": {
      "text/plain": [
       "('Age_bin_2', 'Gender=Female')"
      ]
     },
     "execution_count": 17,
     "metadata": {},
     "output_type": "execute_result"
    }
   ],
   "execution_count": 17
  }
 ],
 "metadata": {
  "kernelspec": {
   "display_name": "Python 3",
   "language": "python",
   "name": "python3"
  },
  "language_info": {
   "codemirror_mode": {
    "name": "ipython",
    "version": 2
   },
   "file_extension": ".py",
   "mimetype": "text/x-python",
   "name": "python",
   "nbconvert_exporter": "python",
   "pygments_lexer": "ipython2",
   "version": "2.7.6"
  }
 },
 "nbformat": 4,
 "nbformat_minor": 5
}
