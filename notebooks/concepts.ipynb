{
 "cells": [
  {
   "metadata": {
    "ExecuteTime": {
     "end_time": "2025-05-21T21:10:56.175639Z",
     "start_time": "2025-05-21T21:10:51.824346Z"
    }
   },
   "cell_type": "code",
   "source": [
    "import pandas as pd\n",
    "\n",
    "df = pd.read_csv(\"../data/cancer_prepared.csv\")"
   ],
   "id": "999e190751af8a8c",
   "outputs": [],
   "execution_count": 1
  },
  {
   "metadata": {
    "ExecuteTime": {
     "end_time": "2025-05-21T21:10:57.112355Z",
     "start_time": "2025-05-21T21:10:57.071273Z"
    }
   },
   "cell_type": "code",
   "source": "df.head()",
   "id": "44e8ab62893a9f54",
   "outputs": [
    {
     "data": {
      "text/plain": [
       "   Age_bin_1  Age_bin_2  Age_bin_3  Genetic_Risk_bin_1  Genetic_Risk_bin_2  \\\n",
       "0      False      False       True               False                True   \n",
       "1       True      False      False                True               False   \n",
       "2      False      False       True               False               False   \n",
       "3       True      False      False                True               False   \n",
       "4       True      False      False               False                True   \n",
       "\n",
       "   Genetic_Risk_bin_3  Air_Pollution_bin_1  Air_Pollution_bin_2  \\\n",
       "0               False                 True                False   \n",
       "1               False                False                 True   \n",
       "2                True                False                False   \n",
       "3               False                 True                False   \n",
       "4               False                 True                False   \n",
       "\n",
       "   Air_Pollution_bin_3  Alcohol_Use_bin_1  ...  Cancer_Type=Leukemia  \\\n",
       "0                False              False  ...                 False   \n",
       "1                False              False  ...                  True   \n",
       "2                 True               True  ...                 False   \n",
       "3                False              False  ...                 False   \n",
       "4                False               True  ...                 False   \n",
       "\n",
       "   Cancer_Type=Liver  Cancer_Type=Lung  Cancer_Type=Prostate  \\\n",
       "0              False              True                 False   \n",
       "1              False             False                 False   \n",
       "2              False             False                 False   \n",
       "3              False             False                 False   \n",
       "4              False             False                 False   \n",
       "\n",
       "   Cancer_Type=Skin  Cancer_Stage=Stage 0  Cancer_Stage=Stage I  \\\n",
       "0             False                 False                 False   \n",
       "1             False                  True                 False   \n",
       "2             False                 False                 False   \n",
       "3             False                 False                  True   \n",
       "4              True                 False                 False   \n",
       "\n",
       "   Cancer_Stage=Stage II  Cancer_Stage=Stage III  Cancer_Stage=Stage IV  \n",
       "0                  False                    True                  False  \n",
       "1                  False                   False                  False  \n",
       "2                   True                   False                  False  \n",
       "3                  False                   False                  False  \n",
       "4                  False                    True                  False  \n",
       "\n",
       "[5 rows x 50 columns]"
      ],
      "text/html": [
       "<div>\n",
       "<style scoped>\n",
       "    .dataframe tbody tr th:only-of-type {\n",
       "        vertical-align: middle;\n",
       "    }\n",
       "\n",
       "    .dataframe tbody tr th {\n",
       "        vertical-align: top;\n",
       "    }\n",
       "\n",
       "    .dataframe thead th {\n",
       "        text-align: right;\n",
       "    }\n",
       "</style>\n",
       "<table border=\"1\" class=\"dataframe\">\n",
       "  <thead>\n",
       "    <tr style=\"text-align: right;\">\n",
       "      <th></th>\n",
       "      <th>Age_bin_1</th>\n",
       "      <th>Age_bin_2</th>\n",
       "      <th>Age_bin_3</th>\n",
       "      <th>Genetic_Risk_bin_1</th>\n",
       "      <th>Genetic_Risk_bin_2</th>\n",
       "      <th>Genetic_Risk_bin_3</th>\n",
       "      <th>Air_Pollution_bin_1</th>\n",
       "      <th>Air_Pollution_bin_2</th>\n",
       "      <th>Air_Pollution_bin_3</th>\n",
       "      <th>Alcohol_Use_bin_1</th>\n",
       "      <th>...</th>\n",
       "      <th>Cancer_Type=Leukemia</th>\n",
       "      <th>Cancer_Type=Liver</th>\n",
       "      <th>Cancer_Type=Lung</th>\n",
       "      <th>Cancer_Type=Prostate</th>\n",
       "      <th>Cancer_Type=Skin</th>\n",
       "      <th>Cancer_Stage=Stage 0</th>\n",
       "      <th>Cancer_Stage=Stage I</th>\n",
       "      <th>Cancer_Stage=Stage II</th>\n",
       "      <th>Cancer_Stage=Stage III</th>\n",
       "      <th>Cancer_Stage=Stage IV</th>\n",
       "    </tr>\n",
       "  </thead>\n",
       "  <tbody>\n",
       "    <tr>\n",
       "      <th>0</th>\n",
       "      <td>False</td>\n",
       "      <td>False</td>\n",
       "      <td>True</td>\n",
       "      <td>False</td>\n",
       "      <td>True</td>\n",
       "      <td>False</td>\n",
       "      <td>True</td>\n",
       "      <td>False</td>\n",
       "      <td>False</td>\n",
       "      <td>False</td>\n",
       "      <td>...</td>\n",
       "      <td>False</td>\n",
       "      <td>False</td>\n",
       "      <td>True</td>\n",
       "      <td>False</td>\n",
       "      <td>False</td>\n",
       "      <td>False</td>\n",
       "      <td>False</td>\n",
       "      <td>False</td>\n",
       "      <td>True</td>\n",
       "      <td>False</td>\n",
       "    </tr>\n",
       "    <tr>\n",
       "      <th>1</th>\n",
       "      <td>True</td>\n",
       "      <td>False</td>\n",
       "      <td>False</td>\n",
       "      <td>True</td>\n",
       "      <td>False</td>\n",
       "      <td>False</td>\n",
       "      <td>False</td>\n",
       "      <td>True</td>\n",
       "      <td>False</td>\n",
       "      <td>False</td>\n",
       "      <td>...</td>\n",
       "      <td>True</td>\n",
       "      <td>False</td>\n",
       "      <td>False</td>\n",
       "      <td>False</td>\n",
       "      <td>False</td>\n",
       "      <td>True</td>\n",
       "      <td>False</td>\n",
       "      <td>False</td>\n",
       "      <td>False</td>\n",
       "      <td>False</td>\n",
       "    </tr>\n",
       "    <tr>\n",
       "      <th>2</th>\n",
       "      <td>False</td>\n",
       "      <td>False</td>\n",
       "      <td>True</td>\n",
       "      <td>False</td>\n",
       "      <td>False</td>\n",
       "      <td>True</td>\n",
       "      <td>False</td>\n",
       "      <td>False</td>\n",
       "      <td>True</td>\n",
       "      <td>True</td>\n",
       "      <td>...</td>\n",
       "      <td>False</td>\n",
       "      <td>False</td>\n",
       "      <td>False</td>\n",
       "      <td>False</td>\n",
       "      <td>False</td>\n",
       "      <td>False</td>\n",
       "      <td>False</td>\n",
       "      <td>True</td>\n",
       "      <td>False</td>\n",
       "      <td>False</td>\n",
       "    </tr>\n",
       "    <tr>\n",
       "      <th>3</th>\n",
       "      <td>True</td>\n",
       "      <td>False</td>\n",
       "      <td>False</td>\n",
       "      <td>True</td>\n",
       "      <td>False</td>\n",
       "      <td>False</td>\n",
       "      <td>True</td>\n",
       "      <td>False</td>\n",
       "      <td>False</td>\n",
       "      <td>False</td>\n",
       "      <td>...</td>\n",
       "      <td>False</td>\n",
       "      <td>False</td>\n",
       "      <td>False</td>\n",
       "      <td>False</td>\n",
       "      <td>False</td>\n",
       "      <td>False</td>\n",
       "      <td>True</td>\n",
       "      <td>False</td>\n",
       "      <td>False</td>\n",
       "      <td>False</td>\n",
       "    </tr>\n",
       "    <tr>\n",
       "      <th>4</th>\n",
       "      <td>True</td>\n",
       "      <td>False</td>\n",
       "      <td>False</td>\n",
       "      <td>False</td>\n",
       "      <td>True</td>\n",
       "      <td>False</td>\n",
       "      <td>True</td>\n",
       "      <td>False</td>\n",
       "      <td>False</td>\n",
       "      <td>True</td>\n",
       "      <td>...</td>\n",
       "      <td>False</td>\n",
       "      <td>False</td>\n",
       "      <td>False</td>\n",
       "      <td>False</td>\n",
       "      <td>True</td>\n",
       "      <td>False</td>\n",
       "      <td>False</td>\n",
       "      <td>False</td>\n",
       "      <td>True</td>\n",
       "      <td>False</td>\n",
       "    </tr>\n",
       "  </tbody>\n",
       "</table>\n",
       "<p>5 rows × 50 columns</p>\n",
       "</div>"
      ]
     },
     "execution_count": 2,
     "metadata": {},
     "output_type": "execute_result"
    }
   ],
   "execution_count": 2
  },
  {
   "metadata": {
    "ExecuteTime": {
     "end_time": "2025-05-21T21:10:57.330042Z",
     "start_time": "2025-05-21T21:10:57.252607Z"
    }
   },
   "cell_type": "code",
   "source": [
    "import concepts\n",
    "from src.utils import create_context_from_dataframe, support\n",
    "\n",
    "num_of_rows = 200  # With more rows it takes much longer to compute\n",
    "min_size_of_intent = 2\n",
    "min_support = 0.15"
   ],
   "id": "577c0a2f24a8a35f",
   "outputs": [],
   "execution_count": 3
  },
  {
   "metadata": {
    "ExecuteTime": {
     "end_time": "2025-05-21T21:10:57.523129Z",
     "start_time": "2025-05-21T21:10:57.463335Z"
    }
   },
   "cell_type": "code",
   "source": [
    "df_part = df[:num_of_rows]\n",
    "objects, attributes, relation = create_context_from_dataframe(df_part)\n",
    "\n",
    "c = concepts.Context(objects, attributes, relation)"
   ],
   "id": "52208df2fc11d10",
   "outputs": [],
   "execution_count": 4
  },
  {
   "metadata": {
    "ExecuteTime": {
     "end_time": "2025-05-21T21:12:39.018305Z",
     "start_time": "2025-05-21T21:10:57.793829Z"
    }
   },
   "cell_type": "code",
   "source": "l = c.lattice  # This can take some time",
   "id": "71e332cbeb1798d0",
   "outputs": [],
   "execution_count": 5
  },
  {
   "metadata": {
    "ExecuteTime": {
     "end_time": "2025-05-21T21:12:39.102616Z",
     "start_time": "2025-05-21T21:12:39.086123Z"
    }
   },
   "cell_type": "code",
   "source": "len(l)",
   "id": "e6e4913704d16ca3",
   "outputs": [
    {
     "data": {
      "text/plain": [
       "18119"
      ]
     },
     "execution_count": 6,
     "metadata": {},
     "output_type": "execute_result"
    }
   ],
   "execution_count": 6
  },
  {
   "metadata": {
    "ExecuteTime": {
     "end_time": "2025-05-21T21:12:39.432527Z",
     "start_time": "2025-05-21T21:12:39.168675Z"
    }
   },
   "cell_type": "code",
   "source": [
    "counter = 1\n",
    "for extent, intent in l:\n",
    "    if len(intent) >= min_size_of_intent:\n",
    "        supp = support(len(extent), num_of_rows)\n",
    "        if supp >= min_support:\n",
    "            print(f\"{counter}: {intent} - {supp}\")\n",
    "            counter += 1"
   ],
   "id": "d1f901bffef6bbe1",
   "outputs": [
    {
     "name": "stdout",
     "output_type": "stream",
     "text": [
      "1: ('Air_Pollution_bin_1', 'Gender=Male') - 0.15\n",
      "2: ('Alcohol_Use_bin_3', 'Gender=Male') - 0.15\n",
      "3: ('Air_Pollution_bin_2', 'Smoking_bin_2') - 0.15\n",
      "4: ('Survival_Years_bin_3', 'Gender=Male') - 0.15\n",
      "5: ('Age_bin_3', 'Target_Severity_Score_bin_3') - 0.15\n",
      "6: ('Genetic_Risk_bin_3', 'Obesity_Level_bin_1') - 0.15\n",
      "7: ('Genetic_Risk_bin_1', 'Obesity_Level_bin_1') - 0.15\n",
      "8: ('Alcohol_Use_bin_3', 'Obesity_Level_bin_1') - 0.15\n",
      "9: ('Age_bin_3', 'Smoking_bin_3') - 0.15\n",
      "10: ('Obesity_Level_bin_1', 'Survival_Years_bin_2') - 0.15\n",
      "11: ('Genetic_Risk_bin_2', 'Air_Pollution_bin_1') - 0.155\n",
      "12: ('Smoking_bin_2', 'Obesity_Level_bin_1') - 0.155\n",
      "13: ('Target_Severity_Score_bin_1', 'Gender=Male') - 0.155\n",
      "14: ('Smoking_bin_3', 'Gender=Female') - 0.155\n",
      "15: ('Obesity_Level_bin_3', 'Target_Severity_Score_bin_3') - 0.155\n",
      "16: ('Target_Severity_Score_bin_3', 'Gender=Male') - 0.16\n",
      "17: ('Genetic_Risk_bin_1', 'Target_Severity_Score_bin_1') - 0.16\n",
      "18: ('Air_Pollution_bin_1', 'Survival_Years_bin_3') - 0.16\n",
      "19: ('Age_bin_3', 'Gender=Male') - 0.165\n",
      "20: ('Air_Pollution_bin_1', 'Smoking_bin_1') - 0.165\n",
      "21: ('Age_bin_1', 'Gender=Male') - 0.165\n",
      "22: ('Alcohol_Use_bin_2', 'Gender=Male') - 0.165\n",
      "23: ('Air_Pollution_bin_3', 'Target_Severity_Score_bin_3') - 0.165\n",
      "24: ('Age_bin_3', 'Obesity_Level_bin_1') - 0.165\n",
      "25: ('Alcohol_Use_bin_3', 'Target_Severity_Score_bin_3') - 0.165\n",
      "26: ('Air_Pollution_bin_1', 'Alcohol_Use_bin_3') - 0.17\n",
      "27: ('Obesity_Level_bin_1', 'Gender=Male') - 0.175\n",
      "28: ('Air_Pollution_bin_1', 'Obesity_Level_bin_1') - 0.175\n",
      "29: ('Genetic_Risk_bin_2', 'Gender=Male') - 0.18\n",
      "30: ('Smoking_bin_2', 'Gender=Male') - 0.185\n",
      "31: ('Smoking_bin_1', 'Target_Severity_Score_bin_1') - 0.19\n",
      "32: ('Obesity_Level_bin_1', 'Target_Severity_Score_bin_1') - 0.2\n",
      "33: ('Smoking_bin_3', 'Target_Severity_Score_bin_3') - 0.2\n",
      "34: ('Air_Pollution_bin_1', 'Target_Severity_Score_bin_1') - 0.205\n",
      "35: ('Genetic_Risk_bin_3', 'Target_Severity_Score_bin_3') - 0.225\n"
     ]
    }
   ],
   "execution_count": 7
  }
 ],
 "metadata": {
  "kernelspec": {
   "display_name": "Python 3",
   "language": "python",
   "name": "python3"
  },
  "language_info": {
   "codemirror_mode": {
    "name": "ipython",
    "version": 2
   },
   "file_extension": ".py",
   "mimetype": "text/x-python",
   "name": "python",
   "nbconvert_exporter": "python",
   "pygments_lexer": "ipython2",
   "version": "2.7.6"
  }
 },
 "nbformat": 4,
 "nbformat_minor": 5
}
